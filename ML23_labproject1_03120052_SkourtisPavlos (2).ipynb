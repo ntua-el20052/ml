{
  "cells": [
    {
      "attachments": {},
      "cell_type": "markdown",
      "metadata": {
        "id": "Dv7UKdyCAnqD"
      },
      "source": [
        "###Μηχανική Μάθηση\n",
        "####1η ατομική εργασία\n",
        "ΣΗΜΜΥ- ΕΜΠ -Ακ. Έτος 2023-24\n",
        "\n"
      ]
    },
    {
      "attachments": {},
      "cell_type": "markdown",
      "metadata": {
        "id": "hL5bHZx06KZc"
      },
      "source": [
        "# ⚠️\n",
        "`Επισημαίνεται ότι απαγορεύεται η ανάρτηση των λύσεων των εργαστηριακών ασκήσεων στο github, ή σε άλλες ιστοσελίδες. Η σχεδίαση και το περιεχόμενο των εργαστηριακών projects αποτελούν αντικείμενο πνευματικής ιδιοκτησίας της διδακτικής ομάδας του μαθήματος.`"
      ]
    },
    {
      "attachments": {},
      "cell_type": "markdown",
      "metadata": {
        "id": "vqmQiAojwM3Z"
      },
      "source": [
        " `⚠️  Το σύνολο δεδομένων που σας δόθηκε δεν πρέπει να εμπλουτισθεί με οποιοδήποτε τρόπο. Η εργασία στην οποία θα χρησιμοποιηθεί εμπλουτισμένο σύνολο δεδομένων, δεν θα διορθωθεί.`"
      ]
    },
    {
      "attachments": {},
      "cell_type": "markdown",
      "metadata": {
        "id": "oAx-ib_pBrq9"
      },
      "source": [
        "Ονοματεπώνυμο φοιτητή:Παύλος Σκούρτης\n",
        "\n",
        "Α.Μ.:03120052"
      ]
    },
    {
      "attachments": {},
      "cell_type": "markdown",
      "metadata": {
        "id": "M7IkqlgaGLr2"
      },
      "source": [
        "### 1. Εισαγωγή συνόλου δεδομένων\n",
        "\n",
        "Tο σύνολο δεδομένων για το training-validation μπορείτε να το κατεβάσετε από [εδώ](https://drive.google.com/file/d/1_ndkaT6BoDuxxPPxLWq-oKDJqzO1Dlhg/view?usp=sharing) .\n"
      ]
    },
    {
      "attachments": {},
      "cell_type": "markdown",
      "metadata": {
        "id": "Qe4uFFcv9XF3"
      },
      "source": [
        "1.α. Φορτώστε το σύνολο δεδομένων \"train-val.csv\"  στο notebook σας."
      ]
    },
    {
      "cell_type": "code",
      "execution_count": 32,
      "metadata": {
        "id": "fbQtw6iYBrJk"
      },
      "outputs": [],
      "source": [
        "import pandas as pd\n",
        "file_path = \"/content/train-val (1).csv\"\n",
        "# Load the CSV file into a DataFrame\n",
        "data = pd.read_csv(file_path,header=0)"
      ]
    },
    {
      "attachments": {},
      "cell_type": "markdown",
      "metadata": {
        "id": "wrxF1hO1HPpJ"
      },
      "source": [
        "### 2. Διερευνητική ανάλυση δεδομένων -Exploratory Data Analysis (EDA)\n",
        "Χρησιμοποιήστε code cells  με τις κατάλληλες τεχνικές EDA για την κατανόηση του συνόλου δεδομένων και text cells για επεξήγηση των αποτελεσμάτων."
      ]
    },
    {
      "attachments": {},
      "cell_type": "markdown",
      "metadata": {
        "id": "fT33H0HPJ7Hg"
      },
      "source": [
        "Χρησιμοποιώντας τις κατάλληλες μεθόδους παρουσιάστε με χρήση κώδικα πληροφορίες για τα εξής:\n",
        "\n",
        "2α. το πλήθος των δειγμάτων και των χαρακτηριστικών του συνόλου δεδομένων,\n",
        "\n",
        "2β. το είδος των χαρακτηριστικών του συνόλου δεδομένων,  \n",
        "\n",
        "2γ. τις ετικέτες των χαρακτηριστικών,\n",
        "\n",
        "2δ. το πλήθος των κατηγοριών,\n",
        "\n",
        "2ε. πόσα δείγματα ανήκουν σε κάθε κατηγορία,\n",
        "\n",
        "2στ. τη συσχέτιση μεταξύ των δεδομένων,\n",
        "\n",
        "2ζ. οποιαδήποτε άλλη πληροφορία πιστεύετε ότι είναι χρήσιμη για την κατανόηση του συνόλου δεδομένων."
      ]
    },
    {
      "cell_type": "code",
      "execution_count": 33,
      "metadata": {
        "colab": {
          "base_uri": "https://localhost:8080/"
        },
        "id": "dnd0K49PNK1T",
        "outputId": "03febd1f-c212-4dbe-f366-265ae95054fe"
      },
      "outputs": [
        {
          "name": "stdout",
          "output_type": "stream",
          "text": [
            "Number of samples (rows): 48423\n",
            "Number of characteristics (columns): 24\n",
            "Data types of characteristics: id                 int64\n",
            "Date              object\n",
            "Location          object\n",
            "MinTemp          float64\n",
            "MaxTemp          float64\n",
            "Rainfall         float64\n",
            "Evaporation      float64\n",
            "Sunshine         float64\n",
            "WindGustDir       object\n",
            "WindGustSpeed    float64\n",
            "WindDir9am        object\n",
            "WindDir3pm        object\n",
            "WindSpeed9am     float64\n",
            "WindSpeed3pm     float64\n",
            "Humidity9am      float64\n",
            "Humidity3pm      float64\n",
            "Pressure9am      float64\n",
            "Pressure3pm      float64\n",
            "Cloud9am         float64\n",
            "Cloud3pm         float64\n",
            "Temp9am          float64\n",
            "Temp3pm          float64\n",
            "RainToday        float64\n",
            "RainTomorrow     float64\n",
            "dtype: object\n",
            "Attribute labels: Index(['id', 'Date', 'Location', 'MinTemp', 'MaxTemp', 'Rainfall',\n",
            "       'Evaporation', 'Sunshine', 'WindGustDir', 'WindGustSpeed', 'WindDir9am',\n",
            "       'WindDir3pm', 'WindSpeed9am', 'WindSpeed3pm', 'Humidity9am',\n",
            "       'Humidity3pm', 'Pressure9am', 'Pressure3pm', 'Cloud9am', 'Cloud3pm',\n",
            "       'Temp9am', 'Temp3pm', 'RainToday', 'RainTomorrow'],\n",
            "      dtype='object')\n",
            "Number of categories in each column: id               48423\n",
            "Date              2534\n",
            "Location            49\n",
            "MinTemp            364\n",
            "MaxTemp            456\n",
            "Rainfall           443\n",
            "Evaporation        231\n",
            "Sunshine           140\n",
            "WindGustDir         16\n",
            "WindGustSpeed       61\n",
            "WindDir9am          16\n",
            "WindDir3pm          16\n",
            "WindSpeed9am        40\n",
            "WindSpeed3pm        42\n",
            "Humidity9am        101\n",
            "Humidity3pm        101\n",
            "Pressure9am        508\n",
            "Pressure3pm        497\n",
            "Cloud9am            10\n",
            "Cloud3pm             9\n",
            "Temp9am            396\n",
            "Temp3pm            452\n",
            "RainToday            2\n",
            "RainTomorrow         2\n",
            "dtype: int64\n",
            "Number of samples for each category in column 'id': 1        1\n",
            "32287    1\n",
            "32278    1\n",
            "32279    1\n",
            "32280    1\n",
            "        ..\n",
            "16144    1\n",
            "16145    1\n",
            "16146    1\n",
            "16147    1\n",
            "48423    1\n",
            "Name: id, Length: 48423, dtype: int64\n",
            "Number of samples for each category in column 'Date': 2013-05-21    34\n",
            "2013-04-23    33\n",
            "2016-05-23    32\n",
            "2016-04-12    32\n",
            "2016-08-05    32\n",
            "              ..\n",
            "2008-03-03     1\n",
            "2007-11-26     1\n",
            "2007-11-22     1\n",
            "2007-11-21     1\n",
            "2008-07-11     1\n",
            "Name: Date, Length: 2534, dtype: int64\n",
            "Number of samples for each category in column 'Location': Sydney              1145\n",
            "Canberra            1136\n",
            "Darwin              1107\n",
            "Perth               1104\n",
            "MelbourneAirport    1099\n",
            "Brisbane            1098\n",
            "Hobart              1096\n",
            "Adelaide            1064\n",
            "Sale                1054\n",
            "MountGambier        1053\n",
            "Mildura             1048\n",
            "CoffsHarbour        1046\n",
            "PerthAirport        1044\n",
            "Woomera             1044\n",
            "Bendigo             1042\n",
            "Cobar               1038\n",
            "Wollongong          1034\n",
            "Cairns              1032\n",
            "SalmonGums          1031\n",
            "Townsville          1027\n",
            "Portland            1022\n",
            "Penrith             1021\n",
            "Dartmoor            1021\n",
            "Watsonia            1021\n",
            "SydneyAirport       1017\n",
            "Ballarat            1014\n",
            "WaggaWagga          1013\n",
            "Launceston          1011\n",
            "Newcastle           1007\n",
            "Witchcliffe         1004\n",
            "AliceSprings        1004\n",
            "Nuriootpa           1004\n",
            "Albany               999\n",
            "Tuggeranong          993\n",
            "NorahHead            991\n",
            "GoldCoast            987\n",
            "Albury               985\n",
            "Richmond             983\n",
            "NorfolkIsland        981\n",
            "BadgerysCreek        981\n",
            "MountGinini          971\n",
            "Moree                957\n",
            "Walpole              904\n",
            "PearceRAAF           881\n",
            "Melbourne            848\n",
            "Williamtown          821\n",
            "Katherine            579\n",
            "Nhil                 559\n",
            "Uluru                502\n",
            "Name: Location, dtype: int64\n",
            "Number of samples for each category in column 'MinTemp':  8.5     349\n",
            " 9.4     346\n",
            " 8.7     341\n",
            " 9.6     340\n",
            " 10.0    335\n",
            "        ... \n",
            "-8.2       1\n",
            "-7.1       1\n",
            "-5.9       1\n",
            "-7.6       1\n",
            " 28.2      1\n",
            "Name: MinTemp, Length: 364, dtype: int64\n",
            "Number of samples for each category in column 'MaxTemp':  20.0    356\n",
            " 19.0    354\n",
            " 17.0    354\n",
            " 18.5    343\n",
            " 19.5    335\n",
            "        ... \n",
            "-2.0       1\n",
            "-2.5       1\n",
            " 1.0       1\n",
            "-1.7       1\n",
            " 43.7      1\n",
            "Name: MaxTemp, Length: 456, dtype: int64\n",
            "Number of samples for each category in column 'Rainfall': 0.0     30235\n",
            "0.2      3235\n",
            "0.4      1308\n",
            "0.6       939\n",
            "0.8       745\n",
            "        ...  \n",
            "59.8        1\n",
            "49.2        1\n",
            "60.8        1\n",
            "33.8        1\n",
            "49.0        1\n",
            "Name: Rainfall, Length: 443, dtype: int64\n",
            "Number of samples for each category in column 'Evaporation': 4.0     1298\n",
            "2.0      872\n",
            "2.2      866\n",
            "2.4      858\n",
            "2.6      852\n",
            "        ... \n",
            "23.0       1\n",
            "29.2       1\n",
            "55.4       1\n",
            "23.3       1\n",
            "39.6       1\n",
            "Name: Evaporation, Length: 231, dtype: int64\n",
            "Number of samples for each category in column 'Sunshine': 0.0     780\n",
            "10.7    416\n",
            "10.5    411\n",
            "11.0    403\n",
            "10.8    390\n",
            "       ... \n",
            "13.6      9\n",
            "13.5      9\n",
            "13.7      5\n",
            "13.8      2\n",
            "14.2      1\n",
            "Name: Sunshine, Length: 140, dtype: int64\n",
            "Number of samples for each category in column 'WindGustDir': W      3586\n",
            "N      3515\n",
            "WSW    3155\n",
            "SW     3074\n",
            "NW     2994\n",
            "WNW    2992\n",
            "E      2900\n",
            "S      2874\n",
            "SSW    2831\n",
            "SE     2801\n",
            "SSE    2716\n",
            "ENE    2482\n",
            "NNW    2463\n",
            "ESE    2344\n",
            "NE     2299\n",
            "NNE    2276\n",
            "Name: WindGustDir, dtype: int64\n",
            "Number of samples for each category in column 'WindGustSpeed': 35.0     3016\n",
            "31.0     2885\n",
            "39.0     2760\n",
            "33.0     2658\n",
            "37.0     2544\n",
            "         ... \n",
            "115.0       4\n",
            "111.0       3\n",
            "113.0       3\n",
            "117.0       1\n",
            "126.0       1\n",
            "Name: WindGustSpeed, Length: 61, dtype: int64\n",
            "Number of samples for each category in column 'WindDir9am': N      4178\n",
            "NW     3288\n",
            "W      3069\n",
            "SW     2935\n",
            "NNW    2791\n",
            "E      2767\n",
            "SSE    2760\n",
            "SE     2734\n",
            "WNW    2670\n",
            "S      2647\n",
            "NNE    2635\n",
            "WSW    2544\n",
            "ENE    2472\n",
            "NE     2431\n",
            "SSW    2381\n",
            "ESE    2300\n",
            "Name: WindDir9am, dtype: int64\n",
            "Number of samples for each category in column 'WindDir3pm': W      3607\n",
            "SE     3306\n",
            "WSW    3280\n",
            "N      3190\n",
            "NW     3154\n",
            "SW     3127\n",
            "S      3115\n",
            "WNW    3106\n",
            "NNW    2908\n",
            "SSE    2890\n",
            "ESE    2731\n",
            "NE     2695\n",
            "SSW    2657\n",
            "E      2640\n",
            "ENE    2449\n",
            "NNE    2240\n",
            "Name: WindDir3pm, dtype: int64\n",
            "Number of samples for each category in column 'WindSpeed9am': 9.0     4586\n",
            "13.0    4334\n",
            "11.0    3892\n",
            "7.0     3741\n",
            "17.0    3537\n",
            "15.0    3489\n",
            "0.0     3446\n",
            "6.0     3081\n",
            "19.0    2804\n",
            "20.0    2616\n",
            "4.0     2192\n",
            "22.0    1829\n",
            "24.0    1709\n",
            "2.0     1666\n",
            "28.0    1152\n",
            "26.0    1149\n",
            "30.0     736\n",
            "31.0     646\n",
            "33.0     398\n",
            "35.0     295\n",
            "37.0     180\n",
            "39.0     129\n",
            "41.0     115\n",
            "43.0      88\n",
            "46.0      60\n",
            "44.0      53\n",
            "48.0      39\n",
            "52.0      27\n",
            "50.0      25\n",
            "56.0      15\n",
            "54.0      12\n",
            "57.0      10\n",
            "61.0       5\n",
            "65.0       2\n",
            "59.0       2\n",
            "67.0       2\n",
            "83.0       1\n",
            "74.0       1\n",
            "87.0       1\n",
            "63.0       1\n",
            "Name: WindSpeed9am, dtype: int64\n",
            "Number of samples for each category in column 'WindSpeed3pm': 13.0    4266\n",
            "17.0    4155\n",
            "15.0    3872\n",
            "20.0    3800\n",
            "19.0    3612\n",
            "11.0    3546\n",
            "9.0     3465\n",
            "24.0    2912\n",
            "22.0    2712\n",
            "7.0     2142\n",
            "26.0    2063\n",
            "28.0    2006\n",
            "6.0     1467\n",
            "30.0    1460\n",
            "31.0    1252\n",
            "4.0      881\n",
            "33.0     797\n",
            "35.0     652\n",
            "0.0      454\n",
            "37.0     449\n",
            "2.0      411\n",
            "39.0     355\n",
            "41.0     213\n",
            "43.0     186\n",
            "44.0     115\n",
            "46.0      90\n",
            "50.0      66\n",
            "48.0      46\n",
            "52.0      34\n",
            "56.0      23\n",
            "54.0      17\n",
            "61.0      11\n",
            "57.0       9\n",
            "59.0       8\n",
            "65.0       6\n",
            "63.0       6\n",
            "76.0       2\n",
            "78.0       1\n",
            "83.0       1\n",
            "72.0       1\n",
            "67.0       1\n",
            "69.0       1\n",
            "Name: WindSpeed3pm, dtype: int64\n",
            "Number of samples for each category in column 'Humidity9am': 99.0     1395\n",
            "100.0    1150\n",
            "75.0     1037\n",
            "74.0     1025\n",
            "71.0     1008\n",
            "         ... \n",
            "3.0         4\n",
            "2.0         4\n",
            "4.0         2\n",
            "0.0         1\n",
            "1.0         1\n",
            "Name: Humidity9am, Length: 101, dtype: int64\n",
            "Number of samples for each category in column 'Humidity3pm': 55.0    953\n",
            "57.0    947\n",
            "53.0    941\n",
            "52.0    937\n",
            "58.0    933\n",
            "       ... \n",
            "4.0      37\n",
            "3.0      18\n",
            "2.0      11\n",
            "1.0       8\n",
            "0.0       2\n",
            "Name: Humidity3pm, Length: 101, dtype: int64\n",
            "Number of samples for each category in column 'Pressure9am': 1017.9    294\n",
            "1019.2    285\n",
            "1018.7    281\n",
            "1018.0    277\n",
            "1019.9    277\n",
            "         ... \n",
            "992.6       1\n",
            "989.0       1\n",
            "989.7       1\n",
            "991.9       1\n",
            "995.0       1\n",
            "Name: Pressure9am, Length: 508, dtype: int64\n",
            "Number of samples for each category in column 'Pressure3pm': 1015.5    276\n",
            "1017.8    276\n",
            "1015.7    266\n",
            "1016.7    265\n",
            "1015.1    263\n",
            "         ... \n",
            "1037.7      1\n",
            "988.4       1\n",
            "1037.6      1\n",
            "987.0       1\n",
            "994.7       1\n",
            "Name: Pressure3pm, Length: 497, dtype: int64\n",
            "Number of samples for each category in column 'Cloud9am': 7.0    6875\n",
            "1.0    5481\n",
            "8.0    4861\n",
            "0.0    2975\n",
            "6.0    2722\n",
            "2.0    2283\n",
            "3.0    2037\n",
            "5.0    1850\n",
            "4.0    1447\n",
            "9.0       2\n",
            "Name: Cloud9am, dtype: int64\n",
            "Number of samples for each category in column 'Cloud3pm': 7.0    6477\n",
            "1.0    5043\n",
            "8.0    4353\n",
            "6.0    3097\n",
            "2.0    2407\n",
            "3.0    2319\n",
            "5.0    2277\n",
            "4.0    1799\n",
            "0.0    1670\n",
            "Name: Cloud3pm, dtype: int64\n",
            "Number of samples for each category in column 'Temp9am':  13.8    381\n",
            " 13.0    351\n",
            " 12.8    347\n",
            " 11.5    341\n",
            " 12.6    341\n",
            "        ... \n",
            "-5.2       1\n",
            "-4.8       1\n",
            "-4.1       1\n",
            " 37.3      1\n",
            " 36.5      1\n",
            "Name: Temp9am, Length: 396, dtype: int64\n",
            "Number of samples for each category in column 'Temp3pm':  19.0    358\n",
            " 18.5    342\n",
            " 17.0    342\n",
            " 16.8    335\n",
            " 17.8    334\n",
            "        ... \n",
            " 1.9       1\n",
            "-0.8       1\n",
            "-2.0       1\n",
            "-3.7       1\n",
            " 41.4      1\n",
            "Name: Temp3pm, Length: 452, dtype: int64\n",
            "Number of samples for each category in column 'RainToday': 0.0    37198\n",
            "1.0    11225\n",
            "Name: RainToday, dtype: int64\n",
            "Number of samples for each category in column 'RainTomorrow': 0.0    37364\n",
            "1.0    11059\n",
            "Name: RainTomorrow, dtype: int64\n",
            "Correlation Matrix:                      id   MinTemp   MaxTemp  Rainfall  Evaporation  Sunshine  \\\n",
            "id             1.000000  0.104771  0.136331 -0.024047     0.096221  0.078911   \n",
            "MinTemp        0.104771  1.000000  0.715692  0.096510     0.457483  0.053477   \n",
            "MaxTemp        0.136331  0.715692  1.000000 -0.103864     0.586798  0.469859   \n",
            "Rainfall      -0.024047  0.096510 -0.103864  1.000000    -0.069284 -0.210261   \n",
            "Evaporation    0.096221  0.457483  0.586798 -0.069284     1.000000  0.351482   \n",
            "Sunshine       0.078911  0.053477  0.469859 -0.210261     0.351482  1.000000   \n",
            "WindGustSpeed  0.047488  0.163349  0.013580  0.160382     0.194751 -0.051283   \n",
            "WindSpeed9am   0.062482  0.193476  0.003229  0.102262     0.208774 -0.001514   \n",
            "WindSpeed3pm   0.040819  0.183079  0.054409  0.068231     0.154487  0.055941   \n",
            "Humidity9am   -0.129400 -0.232420 -0.485241  0.217506    -0.521304 -0.471021   \n",
            "Humidity3pm   -0.085483  0.021193 -0.504320  0.258283    -0.392778 -0.634892   \n",
            "Pressure9am   -0.104157 -0.372295 -0.224734 -0.178761    -0.226294  0.078309   \n",
            "Pressure3pm   -0.108251 -0.385832 -0.331614 -0.125762    -0.261228  0.010106   \n",
            "Cloud9am      -0.073085  0.071455 -0.304386  0.202290    -0.188185 -0.693561   \n",
            "Cloud3pm      -0.066481  0.006876 -0.305659  0.162473    -0.193911 -0.708928   \n",
            "Temp9am        0.139226  0.892621  0.881130 -0.007844     0.556079  0.286368   \n",
            "Temp3pm        0.120342  0.682041  0.984609 -0.108617     0.569842  0.492766   \n",
            "RainToday     -0.003840  0.065077 -0.247060  0.527639    -0.191368 -0.314345   \n",
            "RainTomorrow  -0.002691  0.084001 -0.177480  0.244867    -0.122146 -0.437883   \n",
            "\n",
            "               WindGustSpeed  WindSpeed9am  WindSpeed3pm  Humidity9am  \\\n",
            "id                  0.047488      0.062482      0.040819    -0.129400   \n",
            "MinTemp             0.163349      0.193476      0.183079    -0.232420   \n",
            "MaxTemp             0.013580      0.003229      0.054409    -0.485241   \n",
            "Rainfall            0.160382      0.102262      0.068231     0.217506   \n",
            "Evaporation         0.194751      0.208774      0.154487    -0.521304   \n",
            "Sunshine           -0.051283     -0.001514      0.055941    -0.471021   \n",
            "WindGustSpeed       1.000000      0.633542      0.715518    -0.214060   \n",
            "WindSpeed9am        0.633542      1.000000      0.541097    -0.289202   \n",
            "WindSpeed3pm        0.715518      0.541097      1.000000    -0.166434   \n",
            "Humidity9am        -0.214060     -0.289202     -0.166434     1.000000   \n",
            "Humidity3pm         0.004057     -0.019900     -0.003281     0.644709   \n",
            "Pressure9am        -0.485376     -0.266217     -0.327326     0.117477   \n",
            "Pressure3pm        -0.434426     -0.212422     -0.289712     0.167571   \n",
            "Cloud9am            0.086327      0.035081      0.048956     0.439629   \n",
            "Cloud3pm            0.125622      0.066148      0.032267     0.349397   \n",
            "Temp9am             0.123985      0.141875      0.169477    -0.472335   \n",
            "Temp3pm            -0.024427     -0.008063      0.030884    -0.478217   \n",
            "RainToday           0.188300      0.121898      0.097368     0.332583   \n",
            "RainTomorrow        0.258618      0.118477      0.109116     0.244048   \n",
            "\n",
            "               Humidity3pm  Pressure9am  Pressure3pm  Cloud9am  Cloud3pm  \\\n",
            "id               -0.085483    -0.104157    -0.108251 -0.073085 -0.066481   \n",
            "MinTemp           0.021193    -0.372295    -0.385832  0.071455  0.006876   \n",
            "MaxTemp          -0.504320    -0.224734    -0.331614 -0.304386 -0.305659   \n",
            "Rainfall          0.258283    -0.178761    -0.125762  0.202290  0.162473   \n",
            "Evaporation      -0.392778    -0.226294    -0.261228 -0.188185 -0.193911   \n",
            "Sunshine         -0.634892     0.078309     0.010106 -0.693561 -0.708928   \n",
            "WindGustSpeed     0.004057    -0.485376    -0.434426  0.086327  0.125622   \n",
            "WindSpeed9am     -0.019900    -0.266217    -0.212422  0.035081  0.066148   \n",
            "WindSpeed3pm     -0.003281    -0.327326    -0.289712  0.048956  0.032267   \n",
            "Humidity9am       0.644709     0.117477     0.167571  0.439629  0.349397   \n",
            "Humidity3pm       1.000000    -0.063572     0.019297  0.518187  0.536139   \n",
            "Pressure9am      -0.063572     1.000000     0.959218 -0.135572 -0.150569   \n",
            "Pressure3pm       0.019297     0.959218     1.000000 -0.065816 -0.082215   \n",
            "Cloud9am          0.518187    -0.135572    -0.065816  1.000000  0.609241   \n",
            "Cloud3pm          0.536139    -0.150569    -0.082215  0.609241  1.000000   \n",
            "Temp9am          -0.218612    -0.331612    -0.386751 -0.151065 -0.152008   \n",
            "Temp3pm          -0.556450    -0.175755    -0.289701 -0.315585 -0.347408   \n",
            "RainToday         0.375488    -0.216675    -0.121562  0.306448  0.262506   \n",
            "RainTomorrow      0.458234    -0.273063    -0.247978  0.322673  0.381305   \n",
            "\n",
            "                Temp9am   Temp3pm  RainToday  RainTomorrow  \n",
            "id             0.139226  0.120342  -0.003840     -0.002691  \n",
            "MinTemp        0.892621  0.682041   0.065077      0.084001  \n",
            "MaxTemp        0.881130  0.984609  -0.247060     -0.177480  \n",
            "Rainfall      -0.007844 -0.108617   0.527639      0.244867  \n",
            "Evaporation    0.556079  0.569842  -0.191368     -0.122146  \n",
            "Sunshine       0.286368  0.492766  -0.314345     -0.437883  \n",
            "WindGustSpeed  0.123985 -0.024427   0.188300      0.258618  \n",
            "WindSpeed9am   0.141875 -0.008063   0.121898      0.118477  \n",
            "WindSpeed3pm   0.169477  0.030884   0.097368      0.109116  \n",
            "Humidity9am   -0.472335 -0.478217   0.332583      0.244048  \n",
            "Humidity3pm   -0.218612 -0.556450   0.375488      0.458234  \n",
            "Pressure9am   -0.331612 -0.175755  -0.216675     -0.273063  \n",
            "Pressure3pm   -0.386751 -0.289701  -0.121562     -0.247978  \n",
            "Cloud9am      -0.151065 -0.315585   0.306448      0.322673  \n",
            "Cloud3pm      -0.152008 -0.347408   0.262506      0.381305  \n",
            "Temp9am        1.000000  0.850474  -0.100329     -0.034741  \n",
            "Temp3pm        0.850474  1.000000  -0.253352     -0.211749  \n",
            "RainToday     -0.100329 -0.253352   1.000000      0.314222  \n",
            "RainTomorrow  -0.034741 -0.211749   0.314222      1.000000  \n"
          ]
        },
        {
          "name": "stderr",
          "output_type": "stream",
          "text": [
            "<ipython-input-33-3b3db6fec886>:19: FutureWarning: The default value of numeric_only in DataFrame.corr is deprecated. In a future version, it will default to False. Select only valid columns or specify the value of numeric_only to silence this warning.\n",
            "  correlation_matrix = data.corr()\n"
          ]
        }
      ],
      "source": [
        "#2a\n",
        "rows, columns = data.shape\n",
        "print(\"Number of samples (rows):\", rows)\n",
        "print(\"Number of characteristics (columns):\", columns)\n",
        "#2b\n",
        "data_types = data.dtypes\n",
        "print(\"Data types of characteristics:\", data_types)\n",
        "#2c\n",
        "attribute_labels = data.columns\n",
        "print(\"Attribute labels:\", attribute_labels)\n",
        "#2d\n",
        "num_categories = data.nunique()\n",
        "print(\"Number of categories in each column:\",num_categories)\n",
        "#2e\n",
        "for column_name in data.columns:\n",
        "    category_counts = data[column_name].value_counts()\n",
        "    print(f\"Number of samples for each category in column '{column_name}':\",category_counts)\n",
        "#2f\n",
        "correlation_matrix = data.corr()\n",
        "print(\"Correlation Matrix:\",correlation_matrix)"
      ]
    },
    {
      "attachments": {},
      "cell_type": "markdown",
      "metadata": {
        "id": "EbK3in0hNMeI"
      },
      "source": [
        "### 3. Προεπεξεργασία συνόλου δεδομένων\n",
        "💡`Χρησιμοποιήστε το Column Transformer για τη δημιουργία και την εφαρμογή χωριστών μετασχηματιστών για αριθμητικά και κατηγορικά δεδομένα.`\n",
        "\n",
        "\n"
      ]
    },
    {
      "attachments": {},
      "cell_type": "markdown",
      "metadata": {
        "id": "mKsQVCnLQZ30"
      },
      "source": [
        "3.α.  Θα χρησιμοποιήσετε όλα τα χαρακτηριστικά του συνόλου δεδομένων για την εκπαίδευση των ταξινομητών ή θα επιλέξετε κάποια από αυτά;  Θα κάνετε κάποια συνένωση κάποιων χαρακτηριστικών για δημιουργία νέων χαρακτηριστικών για το μοντέλο σας;\n"
      ]
    },
    {
      "cell_type": "code",
      "execution_count": 34,
      "metadata": {
        "id": "Eqb25dcKNMvg"
      },
      "outputs": [],
      "source": [
        "data['Date'] = pd.to_datetime(data['Date'])\n",
        "data['Year'] = data['Date'].dt.year\n",
        "data['Month'] = data['Date'].dt.month\n",
        "data['Day'] = data['Date'].dt.day\n",
        "data = data.drop(columns=['Date'])\n",
        "\n",
        "#didnt drop values with high correlation because it had worst score\n",
        "\n",
        "data = data.drop(columns=['id'])\n"
      ]
    },
    {
      "attachments": {},
      "cell_type": "markdown",
      "metadata": {
        "id": "GPCa3SklNmBe"
      },
      "source": [
        "3.β. Υπάρχουν απουσιάζουσες τιμές; Γράψτε κατάλληλο κώδικα ώστε να χειριστείτε αυτές τις τιμές."
      ]
    },
    {
      "cell_type": "code",
      "execution_count": 35,
      "metadata": {
        "colab": {
          "base_uri": "https://localhost:8080/"
        },
        "id": "1e_E53VJN8a2",
        "outputId": "6d6949cf-16b1-4a5c-aa9b-4fc2378c1831"
      },
      "outputs": [
        {
          "name": "stdout",
          "output_type": "stream",
          "text": [
            "Columns with missing values: MinTemp            160\n",
            "MaxTemp            101\n",
            "Evaporation      20384\n",
            "Sunshine         22997\n",
            "WindGustDir       3121\n",
            "WindGustSpeed     3093\n",
            "WindDir9am        3821\n",
            "WindDir3pm        1328\n",
            "WindSpeed9am       357\n",
            "WindSpeed3pm       857\n",
            "Humidity9am        558\n",
            "Humidity3pm       1259\n",
            "Pressure9am       4780\n",
            "Pressure3pm       4789\n",
            "Cloud9am         17890\n",
            "Cloud3pm         18981\n",
            "Temp9am            226\n",
            "Temp3pm            913\n",
            "dtype: int64\n",
            "Columns to be dropped due to many missing values: Index(['Evaporation', 'Sunshine'], dtype='object')\n",
            "Columns with missing values: MinTemp            160\n",
            "MaxTemp            101\n",
            "Evaporation      20384\n",
            "Sunshine         22997\n",
            "WindGustDir       3121\n",
            "WindGustSpeed     3093\n",
            "WindDir9am        3821\n",
            "WindDir3pm        1328\n",
            "WindSpeed9am       357\n",
            "WindSpeed3pm       857\n",
            "Humidity9am        558\n",
            "Humidity3pm       1259\n",
            "Pressure9am       4780\n",
            "Pressure3pm       4789\n",
            "Cloud9am         17890\n",
            "Cloud3pm         18981\n",
            "Temp9am            226\n",
            "Temp3pm            913\n",
            "dtype: int64\n",
            "\n",
            "Columns with missing values after handling: Series([], dtype: int64)\n"
          ]
        },
        {
          "name": "stderr",
          "output_type": "stream",
          "text": [
            "<ipython-input-35-38f71e5fb2e1>:19: FutureWarning: The default value of numeric_only in DataFrame.mean is deprecated. In a future version, it will default to False. In addition, specifying 'numeric_only=None' is deprecated. Select only valid columns or specify the value of numeric_only to silence this warning.\n",
            "  data.fillna(data.mean(), inplace=True)\n"
          ]
        }
      ],
      "source": [
        "missing_values = data.isnull().sum()\n",
        "print(\"Columns with missing values:\",missing_values[missing_values > 0])\n",
        "# Set a threshold for the percentage of missing values\n",
        "missing_threshold = 0.4\n",
        "\n",
        "# Calculate the percentage of missing values for each column\n",
        "missing_values_percentage = (missing_values / len(data))\n",
        "\n",
        "# Identify columns with missing values exceeding the threshold\n",
        "columns_to_drop = missing_values_percentage[missing_values_percentage > missing_threshold].index\n",
        "\n",
        "# Print columns to be dropped\n",
        "print(\"Columns to be dropped due to many missing values:\", columns_to_drop)\n",
        "\n",
        "# Drop columns with many missing values\n",
        "data.drop(columns=columns_to_drop, inplace=True)\n",
        "\n",
        "print(\"Columns with missing values:\",missing_values[missing_values > 0])\n",
        "data.fillna(data.mean(), inplace=True)\n",
        "categorical_columns = ['WindGustDir', 'WindDir9am', 'WindDir3pm']\n",
        "for column in categorical_columns:\n",
        "    most_frequent_value = data[column].mode()[0]\n",
        "    data[column].fillna(most_frequent_value, inplace=True)\n",
        "updated_missing_values = data.isnull().sum()\n",
        "print(\"\\nColumns with missing values after handling:\",updated_missing_values[updated_missing_values > 0])"
      ]
    },
    {
      "attachments": {},
      "cell_type": "markdown",
      "metadata": {
        "id": "ZRq1eHYfNoEO"
      },
      "source": [
        "3.γ. Γράψτε κώδικα για την κατάλληλη μετατροπή των κατηγορικών μεταβλητών ώστε να μπορούν να τους διαχειριστούν οι ταξινομητές που θα χρησιμοποιήσετε."
      ]
    },
    {
      "cell_type": "code",
      "execution_count": 36,
      "metadata": {
        "id": "NxRunryNQiXa"
      },
      "outputs": [],
      "source": [
        "from sklearn.preprocessing import StandardScaler, OneHotEncoder\n",
        "from sklearn.pipeline import Pipeline\n",
        "from sklearn.compose import ColumnTransformer\n",
        "from sklearn.impute import SimpleImputer\n",
        "X = data.drop(columns=['RainTomorrow'])\n",
        "y = data['RainTomorrow']\n",
        "numeric_features = X.select_dtypes(include=['float64','int64']).columns\n",
        "categorical_features = X.select_dtypes(include=['object']).columns\n",
        "numeric_transformer = Pipeline(steps=[\n",
        "    ('imputer', StandardScaler())\n",
        "])\n",
        "categorical_transformer = Pipeline(steps=[\n",
        "    ('imputer', SimpleImputer(strategy='most_frequent')),\n",
        "    ('scaler', OneHotEncoder(handle_unknown='ignore'))])\n",
        "preprocessor = ColumnTransformer(\n",
        "    transformers=[\n",
        "        ('num', numeric_transformer, numeric_features),\n",
        "        ('cat', categorical_transformer, categorical_features)\n",
        "    ])\n",
        "\n",
        "\n"
      ]
    },
    {
      "attachments": {},
      "cell_type": "markdown",
      "metadata": {
        "id": "KWsb4KQmQiFc"
      },
      "source": [
        "3.δ. Γράψτε κώδικα για την κλιμάκωση των χαρακτηριστικών, αν την θεωρείτε απαραίτητη"
      ]
    },
    {
      "cell_type": "code",
      "execution_count": null,
      "metadata": {
        "id": "EXkL_EFfNom-"
      },
      "outputs": [],
      "source": []
    },
    {
      "attachments": {},
      "cell_type": "markdown",
      "metadata": {
        "id": "_S2tynpfhaOu"
      },
      "source": [
        "3.ε. Εκτελέστε όλα τα προηγούμενα βήμα προεκπαίδευσης (χρήση μετασχηματιστών) ώστε να είναι \"καθαρό\" το αρχικό σύνολο για να χρησιμοποιηθεί για την εκπαίδευση των ταξινομητών."
      ]
    },
    {
      "cell_type": "code",
      "execution_count": null,
      "metadata": {
        "id": "_LdteolxhZfi"
      },
      "outputs": [],
      "source": []
    },
    {
      "attachments": {},
      "cell_type": "markdown",
      "metadata": {
        "id": "OeD8amKKLJFr"
      },
      "source": [
        "3.στ. Αφού έχετε \"καθαρίσει\" το αρχικό σύνολο εκπαίδευσης, γράψτε τον κατάλληλο κώδικα ώστε από το αρχικό σύνολο εκπαίδευσης να δημιουργήσετε τα σύνολα Χ και y.\n",
        "\n",
        "💡 `Η στήλη 'RainTomorrow' είναι η τιμή που θέλουμε να προβλέψει ο ταξινομητής μας.`\n",
        "\n"
      ]
    },
    {
      "cell_type": "code",
      "execution_count": null,
      "metadata": {
        "id": "FysfIb93LJxS"
      },
      "outputs": [],
      "source": []
    },
    {
      "attachments": {},
      "cell_type": "markdown",
      "metadata": {
        "id": "8oU_se4UT0JF"
      },
      "source": [
        "3.ζ. Διαχωρίστε το σύνολο δεδομένων σε σύνολο εκπαίδευσης (train set) και σε σύνολο επικύρωσης (validation set) (ο διαχωρισμός να είναι train set 70% και validation set 30%).\n"
      ]
    },
    {
      "cell_type": "code",
      "execution_count": 37,
      "metadata": {
        "id": "wcwB_TK1ixvl"
      },
      "outputs": [],
      "source": [
        "from sklearn.model_selection import train_test_split\n",
        "preprocessor.fit(X)\n",
        "X1=preprocessor.transform(X)\n",
        "X_train, X_test, y_train, y_test = train_test_split(X1, y, test_size=0.3, random_state=42)\n",
        "X_dense_train = X_train.toarray()\n",
        "X_dense_test = X_test.toarray()"
      ]
    },
    {
      "attachments": {},
      "cell_type": "markdown",
      "metadata": {
        "id": "xhITyhMuSslH"
      },
      "source": [
        "### 4. Εκπαίδευση μοντέλου με default τιμές στις παραμέτρους των ταξινομητών\n",
        "\n",
        "Θα εκπαιδεύσουμε τους ακόλουθους ταξινομητές με το σύνολο εκπαίδευσης των δεδομένων μας:\n",
        "1. Naive Bayes\n",
        "2. KNeighborsClassifier\n",
        "3. LogisticRegression\n",
        "4. MLP με ένα κρυφό επίπεδο\n",
        "5. SVC\n",
        "6. Decision Tree\n",
        "7. Random Forest\n"
      ]
    },
    {
      "cell_type": "code",
      "execution_count": 38,
      "metadata": {
        "id": "-r3kEVgkU0OF"
      },
      "outputs": [],
      "source": [
        "from sklearn.naive_bayes import GaussianNB\n",
        "from sklearn.neighbors import KNeighborsClassifier\n",
        "from sklearn.linear_model import LogisticRegression\n",
        "from sklearn.neural_network import MLPClassifier\n",
        "from sklearn.svm import SVC\n",
        "from sklearn.tree import DecisionTreeClassifier\n",
        "from sklearn.ensemble import RandomForestClassifier\n",
        "GNB = GaussianNB()\n",
        "KNN = KNeighborsClassifier()\n",
        "LR = LogisticRegression()\n",
        "MLP = MLPClassifier()\n",
        "SVC = SVC()\n",
        "DT = DecisionTreeClassifier()\n",
        "RF = RandomForestClassifier()\n",
        "\n"
      ]
    },
    {
      "attachments": {},
      "cell_type": "markdown",
      "metadata": {
        "id": "a49EG4Z9U0yD"
      },
      "source": [
        " 4.α. Εκπαιδεύστε (fit)  και τους  7 ταξινομητές που προαναφέρθηκαν (εμφανίστε τα δείγματα από το train set μαζί με την ετικέτα τους στην είσοδο του κάθε ταξινομητή), χρησιμοποιώντας τις default τιμές για όλες τις παραμέτρους τους."
      ]
    },
    {
      "cell_type": "code",
      "execution_count": 39,
      "metadata": {
        "colab": {
          "base_uri": "https://localhost:8080/",
          "height": 268
        },
        "id": "-_kDpm_sWRjs",
        "outputId": "05ad657b-f191-44fd-dfd9-718bbecad335"
      },
      "outputs": [
        {
          "name": "stderr",
          "output_type": "stream",
          "text": [
            "/usr/local/lib/python3.10/dist-packages/sklearn/linear_model/_logistic.py:458: ConvergenceWarning: lbfgs failed to converge (status=1):\n",
            "STOP: TOTAL NO. of ITERATIONS REACHED LIMIT.\n",
            "\n",
            "Increase the number of iterations (max_iter) or scale the data as shown in:\n",
            "    https://scikit-learn.org/stable/modules/preprocessing.html\n",
            "Please also refer to the documentation for alternative solver options:\n",
            "    https://scikit-learn.org/stable/modules/linear_model.html#logistic-regression\n",
            "  n_iter_i = _check_optimize_result(\n",
            "/usr/local/lib/python3.10/dist-packages/sklearn/neural_network/_multilayer_perceptron.py:686: ConvergenceWarning: Stochastic Optimizer: Maximum iterations (200) reached and the optimization hasn't converged yet.\n",
            "  warnings.warn(\n"
          ]
        },
        {
          "data": {
            "text/html": [
              "<style>#sk-container-id-4 {color: black;background-color: white;}#sk-container-id-4 pre{padding: 0;}#sk-container-id-4 div.sk-toggleable {background-color: white;}#sk-container-id-4 label.sk-toggleable__label {cursor: pointer;display: block;width: 100%;margin-bottom: 0;padding: 0.3em;box-sizing: border-box;text-align: center;}#sk-container-id-4 label.sk-toggleable__label-arrow:before {content: \"▸\";float: left;margin-right: 0.25em;color: #696969;}#sk-container-id-4 label.sk-toggleable__label-arrow:hover:before {color: black;}#sk-container-id-4 div.sk-estimator:hover label.sk-toggleable__label-arrow:before {color: black;}#sk-container-id-4 div.sk-toggleable__content {max-height: 0;max-width: 0;overflow: hidden;text-align: left;background-color: #f0f8ff;}#sk-container-id-4 div.sk-toggleable__content pre {margin: 0.2em;color: black;border-radius: 0.25em;background-color: #f0f8ff;}#sk-container-id-4 input.sk-toggleable__control:checked~div.sk-toggleable__content {max-height: 200px;max-width: 100%;overflow: auto;}#sk-container-id-4 input.sk-toggleable__control:checked~label.sk-toggleable__label-arrow:before {content: \"▾\";}#sk-container-id-4 div.sk-estimator input.sk-toggleable__control:checked~label.sk-toggleable__label {background-color: #d4ebff;}#sk-container-id-4 div.sk-label input.sk-toggleable__control:checked~label.sk-toggleable__label {background-color: #d4ebff;}#sk-container-id-4 input.sk-hidden--visually {border: 0;clip: rect(1px 1px 1px 1px);clip: rect(1px, 1px, 1px, 1px);height: 1px;margin: -1px;overflow: hidden;padding: 0;position: absolute;width: 1px;}#sk-container-id-4 div.sk-estimator {font-family: monospace;background-color: #f0f8ff;border: 1px dotted black;border-radius: 0.25em;box-sizing: border-box;margin-bottom: 0.5em;}#sk-container-id-4 div.sk-estimator:hover {background-color: #d4ebff;}#sk-container-id-4 div.sk-parallel-item::after {content: \"\";width: 100%;border-bottom: 1px solid gray;flex-grow: 1;}#sk-container-id-4 div.sk-label:hover label.sk-toggleable__label {background-color: #d4ebff;}#sk-container-id-4 div.sk-serial::before {content: \"\";position: absolute;border-left: 1px solid gray;box-sizing: border-box;top: 0;bottom: 0;left: 50%;z-index: 0;}#sk-container-id-4 div.sk-serial {display: flex;flex-direction: column;align-items: center;background-color: white;padding-right: 0.2em;padding-left: 0.2em;position: relative;}#sk-container-id-4 div.sk-item {position: relative;z-index: 1;}#sk-container-id-4 div.sk-parallel {display: flex;align-items: stretch;justify-content: center;background-color: white;position: relative;}#sk-container-id-4 div.sk-item::before, #sk-container-id-4 div.sk-parallel-item::before {content: \"\";position: absolute;border-left: 1px solid gray;box-sizing: border-box;top: 0;bottom: 0;left: 50%;z-index: -1;}#sk-container-id-4 div.sk-parallel-item {display: flex;flex-direction: column;z-index: 1;position: relative;background-color: white;}#sk-container-id-4 div.sk-parallel-item:first-child::after {align-self: flex-end;width: 50%;}#sk-container-id-4 div.sk-parallel-item:last-child::after {align-self: flex-start;width: 50%;}#sk-container-id-4 div.sk-parallel-item:only-child::after {width: 0;}#sk-container-id-4 div.sk-dashed-wrapped {border: 1px dashed gray;margin: 0 0.4em 0.5em 0.4em;box-sizing: border-box;padding-bottom: 0.4em;background-color: white;}#sk-container-id-4 div.sk-label label {font-family: monospace;font-weight: bold;display: inline-block;line-height: 1.2em;}#sk-container-id-4 div.sk-label-container {text-align: center;}#sk-container-id-4 div.sk-container {/* jupyter's `normalize.less` sets `[hidden] { display: none; }` but bootstrap.min.css set `[hidden] { display: none !important; }` so we also need the `!important` here to be able to override the default hidden behavior on the sphinx rendered scikit-learn.org. See: https://github.com/scikit-learn/scikit-learn/issues/21755 */display: inline-block !important;position: relative;}#sk-container-id-4 div.sk-text-repr-fallback {display: none;}</style><div id=\"sk-container-id-4\" class=\"sk-top-container\"><div class=\"sk-text-repr-fallback\"><pre>RandomForestClassifier()</pre><b>In a Jupyter environment, please rerun this cell to show the HTML representation or trust the notebook. <br />On GitHub, the HTML representation is unable to render, please try loading this page with nbviewer.org.</b></div><div class=\"sk-container\" hidden><div class=\"sk-item\"><div class=\"sk-estimator sk-toggleable\"><input class=\"sk-toggleable__control sk-hidden--visually\" id=\"sk-estimator-id-4\" type=\"checkbox\" checked><label for=\"sk-estimator-id-4\" class=\"sk-toggleable__label sk-toggleable__label-arrow\">RandomForestClassifier</label><div class=\"sk-toggleable__content\"><pre>RandomForestClassifier()</pre></div></div></div></div></div>"
            ],
            "text/plain": [
              "RandomForestClassifier()"
            ]
          },
          "execution_count": 39,
          "metadata": {},
          "output_type": "execute_result"
        }
      ],
      "source": [
        "#GaussianNB\n",
        "GNB.fit(X_dense_train,y_train)\n",
        "\n",
        "#KNeighborsClassifier\n",
        "KNN.fit(X_dense_train,y_train)\n",
        "\n",
        "#LogisticRegression\n",
        "LR.fit(X_dense_train,y_train)\n",
        "\n",
        "#MLPClassifier\n",
        "MLP.fit(X_dense_train,y_train)\n",
        "\n",
        "#SVC\n",
        "SVC.fit(X_dense_train,y_train)\n",
        "\n",
        "#DecisionTreeClassifier\n",
        "DT.fit(X_dense_train,y_train)\n",
        "\n",
        "#RandomForestClassifier\n",
        "RF.fit(X_dense_train,y_train)"
      ]
    },
    {
      "cell_type": "code",
      "execution_count": null,
      "metadata": {
        "id": "lnPwpvoIEtsc"
      },
      "outputs": [],
      "source": []
    },
    {
      "attachments": {},
      "cell_type": "markdown",
      "metadata": {
        "id": "dkv21zidSgNX"
      },
      "source": [
        "4.β. Εφαρμόστε στα εκπαιδευμένα μοντέλα από το validation set μόνο τα δείγματα χωρίς την ετικέτα τους (predict).\n"
      ]
    },
    {
      "cell_type": "code",
      "execution_count": 40,
      "metadata": {
        "id": "3DqkKHMZQaDe"
      },
      "outputs": [],
      "source": [
        "#GaussianNB\n",
        "GNB_pred = GNB.predict(X_dense_test)\n",
        "\n",
        "#KNeighborsClassifier\n",
        "KNN_pred = KNN.predict(X_dense_test)\n",
        "\n",
        "#LogisticRegression\n",
        "LR_pred = LR.predict(X_dense_test)\n",
        "\n",
        "#MLPClassifier\n",
        "MLP_pred = MLP.predict(X_dense_test)\n",
        "\n",
        "#SVC\n",
        "SVC_pred = SVC.predict(X_dense_test)\n",
        "\n",
        "#DecisionTreeClassifier\n",
        "DT_pred = DT.predict(X_dense_test)\n",
        "\n",
        "#RandomForestClassifier\n",
        "RF_pred = RF.predict(X_dense_test)"
      ]
    },
    {
      "attachments": {},
      "cell_type": "markdown",
      "metadata": {
        "id": "BsvLlbPRWaa_"
      },
      "source": [
        "\n",
        "4.γ. Συγκρίνετε την έξοδο του κάθε μοντέλου σε σχέση με τις αντίστοιχες ετικέτες του validation set και αξιολογήστε την επιδοσή τους χρησιμοποιώντας το F1 score.\n"
      ]
    },
    {
      "cell_type": "code",
      "execution_count": 41,
      "metadata": {
        "colab": {
          "base_uri": "https://localhost:8080/"
        },
        "id": "9jkFxtNbWZvY",
        "outputId": "ca73dfef-cccb-4d86-e85d-6773eedb27a2"
      },
      "outputs": [
        {
          "name": "stdout",
          "output_type": "stream",
          "text": [
            "F1 Score for GNB: 0.46812749003984067\n",
            "F1 Score for KNN: 0.5742160278745644\n",
            "F1 Score for LR: 0.6241750607849947\n",
            "F1 Score for MLP: 0.6276708592210941\n",
            "F1 Score for SVC: 0.6382902938557435\n",
            "F1 Score for DT: 0.5467392904460474\n",
            "F1 Score for RF: 0.6126388635949737\n"
          ]
        }
      ],
      "source": [
        "from sklearn.metrics import f1_score\n",
        "\n",
        "\n",
        "# Evaluate F1 scores for each model\n",
        "f1_GNB = f1_score(y_test, GNB_pred)\n",
        "f1_KNN = f1_score(y_test, KNN_pred)\n",
        "f1_LR = f1_score(y_test, LR_pred)\n",
        "f1_MLP = f1_score(y_test, MLP_pred)\n",
        "f1_SVC = f1_score(y_test, SVC_pred)\n",
        "f1_DT = f1_score(y_test, DT_pred)\n",
        "f1_RF = f1_score(y_test, RF_pred)\n",
        "\n",
        "# Print the F1 scores\n",
        "print(\"F1 Score for GNB:\", f1_GNB)\n",
        "print(\"F1 Score for KNN:\", f1_KNN)\n",
        "print(\"F1 Score for LR:\", f1_LR)\n",
        "print(\"F1 Score for MLP:\", f1_MLP)\n",
        "print(\"F1 Score for SVC:\", f1_SVC)\n",
        "print(\"F1 Score for DT:\", f1_DT)\n",
        "print(\"F1 Score for RF:\", f1_RF)"
      ]
    },
    {
      "attachments": {},
      "cell_type": "markdown",
      "metadata": {
        "id": "F1SXqT2vWZTh"
      },
      "source": [
        "4.δ.  Αξιολογήστε συνολικά την επίδοση των μοντέλων χρησιμοποιώντας κάποιο γράφημα (π.χ. ιστόγραμμα, bar plot) και σχολιάστε ποιο μοντέλο είχε την καλύτερη επίδοση.\n"
      ]
    },
    {
      "cell_type": "code",
      "execution_count": 42,
      "metadata": {
        "colab": {
          "base_uri": "https://localhost:8080/",
          "height": 564
        },
        "id": "UOiOlTcJjISQ",
        "outputId": "618c4ad4-b0c8-4e0d-c427-43f1b72d13de"
      },
      "outputs": [
        {
          "data": {
            "image/png": "[encoded data removed]",
            "text/plain": [
              "<Figure size 1000x600 with 1 Axes>"
            ]
          },
          "metadata": {},
          "output_type": "display_data"
        }
      ],
      "source": [
        "import matplotlib.pyplot as plt\n",
        "import numpy as np\n",
        "\n",
        "# F1 scores for each model\n",
        "f1_scores = [f1_GNB, f1_KNN, f1_LR, f1_MLP, f1_SVC, f1_DT, f1_RF]\n",
        "\n",
        "# Model names\n",
        "models = ['GNB', 'KNN', 'LR', 'MLP', 'SVC', 'DT', 'RF']\n",
        "\n",
        "# Create a bar plot\n",
        "plt.figure(figsize=(10, 6))\n",
        "plt.bar(models, f1_scores, color='blue')\n",
        "plt.title('F1 Score Comparison of Different Models')\n",
        "plt.xlabel('Models')\n",
        "plt.ylabel('F1 Score')\n",
        "plt.ylim(0, 1)  # Set the y-axis limit to better visualize differences\n",
        "\n",
        "plt.grid(axis='y', linestyle='--', alpha=0.7)\n",
        "for i, score in enumerate(f1_scores):\n",
        "    plt.text(i, score + 0.01, f'{score:.2f}', ha='center')\n",
        "\n",
        "plt.show()"
      ]
    },
    {
      "attachments": {},
      "cell_type": "markdown",
      "metadata": {
        "id": "f1ZWds7ekAsL"
      },
      "source": [
        "### 5. Προετοιμασία αρχείου για την πρώτη υποβολή στο kaggle"
      ]
    },
    {
      "attachments": {},
      "cell_type": "markdown",
      "metadata": {
        "id": "atEnldNpkSTG"
      },
      "source": [
        "5.α. Χρησιμοποιήστε **ΜΟΝΟ** το μοντέλο σας με την καλύτερη επίδοση για να κάνετε προβλέψεις, χρησιμοποιώντας το [test set](https://drive.google.com/file/d/1bcmuoeRVY0y5ZuY6nZcmzy8_5fOFR4Oa/view?usp=drive_link).\n"
      ]
    },
    {
      "cell_type": "code",
      "execution_count": 43,
      "metadata": {
        "colab": {
          "base_uri": "https://localhost:8080/"
        },
        "id": "UM0B638pkBLC",
        "outputId": "509bda21-edb5-4a24-d739-512d35a896a8"
      },
      "outputs": [
        {
          "name": "stderr",
          "output_type": "stream",
          "text": [
            "<ipython-input-43-b5f689ddb9e6>:10: UserWarning: Parsing dates in DD/MM/YYYY format when dayfirst=False (the default) was specified. This may lead to inconsistently parsed dates! Specify a format to ensure consistent parsing.\n",
            "  data1['Date'] = pd.to_datetime(data1['Date'])\n",
            "<ipython-input-43-b5f689ddb9e6>:21: FutureWarning: The default value of numeric_only in DataFrame.mean is deprecated. In a future version, it will default to False. In addition, specifying 'numeric_only=None' is deprecated. Select only valid columns or specify the value of numeric_only to silence this warning.\n",
            "  data1.fillna(data1.mean(), inplace=True)\n"
          ]
        }
      ],
      "source": [
        "\n",
        "import pandas as pd\n",
        "from sklearn.preprocessing import StandardScaler, OneHotEncoder\n",
        "from sklearn.pipeline import Pipeline\n",
        "from sklearn.compose import ColumnTransformer\n",
        "from sklearn.ensemble import RandomForestClassifier\n",
        "\n",
        "file_path = \"/content/test.csv\"\n",
        "# Load the CSV file into a DataFrame\n",
        "data1 = pd.read_csv(file_path,header=0)\n",
        "data1['Date'] = pd.to_datetime(data1['Date'])\n",
        "\n",
        "data1['Year'] = data1['Date'].dt.year\n",
        "data1['Month'] = data1['Date'].dt.month\n",
        "data1['Day'] = data1['Date'].dt.day\n",
        "\n",
        "# Drop the original 'Date' column\n",
        "data1 = data1.drop(columns=['Date'])\n",
        "\n",
        "\n",
        "data1 = data1.drop(columns=['Evaporation', 'Sunshine'])\n",
        "data1.fillna(data1.mean(), inplace=True)\n",
        "categorical_columns = ['WindGustDir', 'WindDir9am', 'WindDir3pm']\n",
        "for column in categorical_columns:\n",
        "    most_frequent_value = data1[column].mode()[0]\n",
        "    data1[column].fillna(most_frequent_value, inplace=True)\n",
        "updated_missing_values = data1.isnull().sum()\n",
        "\n",
        "\n",
        "numeric_features = data1.select_dtypes(include=['float64','int64']).columns\n",
        "categorical_features = data1.select_dtypes(include=['object']).columns\n",
        "numeric_transformer = Pipeline(steps=[\n",
        "    ('imputer', StandardScaler())\n",
        "])\n",
        "categorical_transformer = Pipeline(steps=[\n",
        "    ('imputer', SimpleImputer(strategy='most_frequent')),\n",
        "    ('scaler', OneHotEncoder(handle_unknown='ignore'))])\n",
        "preprocessor = ColumnTransformer(\n",
        "    transformers=[\n",
        "        ('num', numeric_transformer, numeric_features),\n",
        "        ('cat', categorical_transformer, categorical_features)\n",
        "    ])\n",
        "\n",
        "preprocessor.fit(data1)\n",
        "x_test_trans1 = preprocessor.transform(data1)\n",
        "x_dense_test1 = x_test_trans1.toarray()\n",
        "\n",
        "SVC_pred1 =SVC.predict(x_dense_test1)\n"
      ]
    },
    {
      "attachments": {},
      "cell_type": "markdown",
      "metadata": {
        "id": "_WwjA-3kjFRj"
      },
      "source": [
        "5.β. Αποθηκεύστε τις προβλέψεις από το καλύτερο μοντέλο σας σε ένα csv αρχείο. To csv αρχείο θα πρέπει να είναι περιέχει 2 στήλες: η πρώτη στήλη να περιέχει την στήλη id του test set file και η δεύτερη στήλη τις αντίστοιχες προβλέψεις που έκανε το καλύτερα εκπαιδευμένο μοντέλο σας (βήμα 5α)."
      ]
    },
    {
      "cell_type": "code",
      "execution_count": 44,
      "metadata": {
        "id": "Z6SPFOpZjF5l"
      },
      "outputs": [],
      "source": [
        "id_column = list(range(1, len(SVC_pred1) + 1))\n",
        "predictions_df = pd.DataFrame({'id': id_column , 'predictions': SVC_pred1})\n",
        "\n",
        "# Save the DataFrame to a CSV file\n",
        "predictions_df.to_csv('best_model_predictions.csv', index=False)\n"
      ]
    },
    {
      "attachments": {},
      "cell_type": "markdown",
      "metadata": {
        "id": "j6OoLlxrYILN"
      },
      "source": [
        "### 6. Βελτιστοποίηση μοντέλων με εύρεση καλύτερων υπερπαραμέτρων των ταξινομητών\n",
        "\n",
        "6.α. Για τους 7 ταξινομητές βελτιστοποιήστε την επίδοσή τους χρησιμοποιώντας αναζήτηση πλέγματος με διασταυρούμενη επικύρωση (k-fold 5)  με σκοπό την εύρεση των βέλτιστων υπερπαραμέτρων."
      ]
    },
    {
      "cell_type": "code",
      "execution_count": 45,
      "metadata": {
        "colab": {
          "base_uri": "https://localhost:8080/"
        },
        "id": "FK_zetZLlOeV",
        "outputId": "c039cf29-3181-4f27-a6c2-3c1bf4b26933"
      },
      "outputs": [
        {
          "name": "stdout",
          "output_type": "stream",
          "text": [
            "Naive Bayes\n",
            "Best Parameters for Naive Bayes: {'var_smoothing': 1e-05}\n",
            "KNN\n",
            "Best Parameters for KNN: {'n_neighbors': 5}\n",
            "Logistic Regression\n",
            "Best Parameters for Logistic Regression: {'C': 1.0}\n",
            "MLP\n",
            "Best Parameters for MLP: {'hidden_layer_sizes': (150,)}\n",
            "SVC\n",
            "Best Parameters for SVC: {'C': 10.0, 'kernel': 'rbf'}\n",
            "Decision Tree\n",
            "Best Parameters for Decision Tree: {'max_depth': 10}\n",
            "Random Forest\n",
            "Best Parameters for Random Forest: {'n_estimators': 150}\n"
          ]
        }
      ],
      "source": [
        "from sklearn.model_selection import GridSearchCV, StratifiedKFold\n",
        "from sklearn.metrics import make_scorer, f1_score\n",
        "from sklearn.svm import SVC\n",
        "\n",
        "\n",
        "classifiers_parametered = [\n",
        "    ('Naive Bayes', GaussianNB(), {'var_smoothing': [1e-9, 1e-8, 1e-7, 1e-6, 1e-5]}),\n",
        "    ('KNN', KNeighborsClassifier(), {'n_neighbors': [3, 5, 7]}),\n",
        "    ('Logistic Regression', LogisticRegression(max_iter=1000), {'C': [0.1, 1.0, 10.0]}),\n",
        "    ('MLP', MLPClassifier(max_iter=500), {'hidden_layer_sizes': [(50,), (100,), (150,)]}),\n",
        "    ('SVC', SVC(), {'kernel': ['linear', 'rbf'], 'C': [0.1, 1.0, 10.0]}),\n",
        "    ('Decision Tree', DecisionTreeClassifier(), {'max_depth': [None, 10, 20]}),\n",
        "    ('Random Forest', RandomForestClassifier(), {'n_estimators': [50, 100, 150]})\n",
        "]\n",
        "\n",
        "best_params = {}\n",
        "best_model = {}\n",
        "\n",
        "# Create a k-fold cross-validator\n",
        "cv = StratifiedKFold(n_splits=5, shuffle=True, random_state=42)\n",
        "\n",
        "# Define the scorer\n",
        "scorer = make_scorer(f1_score)\n",
        "# Iterate through classifiers\n",
        "for name, classifier, param_grid in classifiers_parametered:\n",
        "    print(name)\n",
        "\n",
        "    # Create GridSearchCV instance\n",
        "    grid_search = GridSearchCV(classifier, param_grid, scoring=scorer, cv=cv, n_jobs=-1)\n",
        "\n",
        "    # Fit the model\n",
        "    grid_search.fit(X_dense_train,y_train)\n",
        "\n",
        "    # Get the best parameters\n",
        "    best_params[name] = grid_search.best_params_\n",
        "\n",
        "    # Print results\n",
        "    print(f\"Best Parameters for {name}: {best_params[name]}\")"
      ]
    },
    {
      "attachments": {},
      "cell_type": "markdown",
      "metadata": {
        "id": "VZmBLNBA-pbo"
      },
      "source": []
    },
    {
      "attachments": {},
      "cell_type": "markdown",
      "metadata": {
        "id": "KD2jGJgUloMW"
      },
      "source": [
        "6.β. Εφαρμόστε στα εκπαιδευμένα μοντέλα από το validation set μόνο τα δείγματα χωρίς την ετικέτα τους (predict).\n"
      ]
    },
    {
      "cell_type": "code",
      "execution_count": 46,
      "metadata": {
        "colab": {
          "base_uri": "https://localhost:8080/"
        },
        "id": "ANPd125TloMW",
        "outputId": "9e841a3a-deeb-4a94-ba04-5cebae35cd53"
      },
      "outputs": [
        {
          "name": "stderr",
          "output_type": "stream",
          "text": [
            "/usr/local/lib/python3.10/dist-packages/sklearn/linear_model/_logistic.py:458: ConvergenceWarning: lbfgs failed to converge (status=1):\n",
            "STOP: TOTAL NO. of ITERATIONS REACHED LIMIT.\n",
            "\n",
            "Increase the number of iterations (max_iter) or scale the data as shown in:\n",
            "    https://scikit-learn.org/stable/modules/preprocessing.html\n",
            "Please also refer to the documentation for alternative solver options:\n",
            "    https://scikit-learn.org/stable/modules/linear_model.html#logistic-regression\n",
            "  n_iter_i = _check_optimize_result(\n",
            "/usr/local/lib/python3.10/dist-packages/sklearn/neural_network/_multilayer_perceptron.py:686: ConvergenceWarning: Stochastic Optimizer: Maximum iterations (200) reached and the optimization hasn't converged yet.\n",
            "  warnings.warn(\n"
          ]
        }
      ],
      "source": [
        "from sklearn.svm import SVC\n",
        "predictions = {}\n",
        "best_model = [\n",
        "    ('Naive Bayes', GaussianNB(var_smoothing=1e-05)),\n",
        "    ('KNN', KNeighborsClassifier(n_neighbors=5)),\n",
        "    ('Logistic Regression', LogisticRegression(C=1.0)),\n",
        "    ('MLP', MLPClassifier(hidden_layer_sizes=(150,))),\n",
        "    ('SVC', SVC(kernel='rbf',C=10.0)),\n",
        "    ('Decision Tree', DecisionTreeClassifier(max_depth=10)),\n",
        "    ('Random Forest', RandomForestClassifier(n_estimators=150))\n",
        "]\n",
        "# Iterate through classifiers\n",
        "for name, model in best_model:\n",
        "    model.fit(X_dense_train,y_train)\n",
        "    # Make predictions on the validation set\n",
        "    y_pred7 = model.predict(X_dense_test)\n",
        "\n",
        "    # Store predictions in the dictionary\n",
        "    predictions[name] = y_pred7"
      ]
    },
    {
      "attachments": {},
      "cell_type": "markdown",
      "metadata": {
        "id": "hj_7xTZ-loMW"
      },
      "source": [
        "\n",
        "6.γ. Συγκρίνετε την έξοδο του κάθε μοντέλου σε σχέση με τις αντίστοιχες ετικέτες του validation set και αξιολογήστε την επιδοσή τους χρησιμοποιώντας το F1 score.\n"
      ]
    },
    {
      "cell_type": "code",
      "execution_count": 47,
      "metadata": {
        "colab": {
          "base_uri": "https://localhost:8080/"
        },
        "id": "YsJB5GanloMW",
        "outputId": "5739a0ea-e696-43b8-d74f-df54c4a4aacf"
      },
      "outputs": [
        {
          "name": "stdout",
          "output_type": "stream",
          "text": [
            "F1 Score for Naive Bayes: 0.4682674105808508\n",
            "F1 Score for KNN: 0.5742160278745644\n",
            "F1 Score for Logistic Regression: 0.6241750607849947\n",
            "F1 Score for MLP: 0.6208487084870848\n",
            "F1 Score for SVC: 0.6524682185900611\n",
            "F1 Score for Decision Tree: 0.579206181945908\n",
            "F1 Score for Random Forest: 0.6168831168831169\n"
          ]
        }
      ],
      "source": [
        "from sklearn.metrics import f1_score\n",
        "\n",
        "# Create an empty dictionary to store F1 scores\n",
        "f1_scores = {}\n",
        "\n",
        "# Iterate through classifiers\n",
        "for name, y_pred7 in predictions.items():\n",
        "    # Calculate F1 score\n",
        "    f1 = f1_score(y_test, y_pred7)\n",
        "\n",
        "    # Store F1 score in the dictionary\n",
        "    f1_scores[name] = f1\n",
        "\n",
        "    # Print F1 score for each classifier\n",
        "    print(f\"F1 Score for {name}: {f1}\")"
      ]
    },
    {
      "attachments": {},
      "cell_type": "markdown",
      "metadata": {
        "id": "l6vs5gOQloMW"
      },
      "source": [
        "6.δ.  Αξιολογήστε συνολικά την επίδοση των μοντέλων χρησιμοποιώντας κάποιο γράφημα (π.χ. ιστόγραμμα, bar plot) και σχολιάστε ποιο μοντέλο είχε την καλύτερη επίδοση.\n"
      ]
    },
    {
      "cell_type": "code",
      "execution_count": 48,
      "metadata": {
        "colab": {
          "base_uri": "https://localhost:8080/",
          "height": 564
        },
        "id": "EsAWlUCUloMX",
        "outputId": "22a2d09c-2147-4546-8c3b-92871073c34b"
      },
      "outputs": [
        {
          "data": {
            "image/png": "[encoded data removed]",
            "text/plain": [
              "<Figure size 1000x600 with 1 Axes>"
            ]
          },
          "metadata": {},
          "output_type": "display_data"
        }
      ],
      "source": [
        "import matplotlib.pyplot as plt\n",
        "import numpy as np\n",
        "\n",
        "# Extract model names and F1 scores\n",
        "models = list(f1_scores.keys())\n",
        "scores = list(f1_scores.values())\n",
        "\n",
        "# Plotting the bar chart\n",
        "plt.figure(figsize=(10, 6))\n",
        "plt.bar(models, scores, color='blue')\n",
        "plt.xlabel('Model')\n",
        "plt.ylabel('F1 Score')\n",
        "plt.title('Model Performance Comparison')\n",
        "plt.ylim(0, 1)  # Adjust the y-axis range if needed\n",
        "plt.grid(axis='y', linestyle='--', alpha=0.7)\n",
        "\n",
        "# Display the F1 scores on top of the bars\n",
        "for i, score in enumerate(scores):\n",
        "    plt.text(i, score + 0.01, f'{score:.2f}', ha='center')\n",
        "\n",
        "# Show the plot\n",
        "plt.show()"
      ]
    },
    {
      "attachments": {},
      "cell_type": "markdown",
      "metadata": {
        "id": "DrWizICNmItV"
      },
      "source": [
        "### 7. Προετοιμασία αρχείου για τη δεύτερη υποβολή στο kaggle"
      ]
    },
    {
      "attachments": {},
      "cell_type": "markdown",
      "metadata": {
        "id": "GzoRElvAmItV"
      },
      "source": [
        "7.α. Χρησιμοποιήστε **ΜΟΝΟ** το μοντέλο σας με την καλύτερη επίδοση για να κάνετε προβλέψεις χρησιμοποιώντας το δοθέν σύνολο εκπαίδευσης (test set)"
      ]
    },
    {
      "cell_type": "code",
      "execution_count": 49,
      "metadata": {
        "id": "HlEBQIOnmItV"
      },
      "outputs": [],
      "source": [
        "for name, model in best_model:\n",
        "    if name =='SVC':\n",
        "        best_model_pred = model.predict(x_dense_test1)\n",
        "        break\n"
      ]
    },
    {
      "attachments": {},
      "cell_type": "markdown",
      "metadata": {
        "id": "TA2fuBn9mItW"
      },
      "source": [
        "7.β. Αποθηκεύστε τις προβλέψεις από το καλύτερο μοντέλο σας σε ένα csv αρχείο. To csv αρχείο θα πρέπει να είναι περιέχει 2 στήλες: η πρώτη στήλη να περιέχει την στήλη id του test set file και η δεύτερη στήλη τις αντίστοιχες προβλέψεις που έκανε το καλύτερα εκπαιδευμένο μοντέλο σας (βήμα 7α)."
      ]
    },
    {
      "cell_type": "code",
      "execution_count": 50,
      "metadata": {
        "id": "9A1YaimKmItW"
      },
      "outputs": [],
      "source": [
        "id_column = list(range(1, len(best_model_pred) + 1))\n",
        "predictions_df7 = pd.DataFrame({'id': id_column , 'predictions': best_model_pred})\n",
        "\n",
        "# Save the DataFrame to a CSV file\n",
        "predictions_df7.to_csv('best_model_predictions7.csv', index=False)"
      ]
    }
  ],
  "metadata": {
    "colab": {
      "provenance": []
    },
    "kernelspec": {
      "display_name": "Python 3",
      "name": "python3"
    },
    "language_info": {
      "name": "python"
    }
  },
  "nbformat": 4,
  "nbformat_minor": 0
}
